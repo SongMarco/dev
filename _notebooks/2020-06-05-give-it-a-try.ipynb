{
 "cells": [
  {
   "cell_type": "markdown",
   "metadata": {},
   "source": [
    "# 블로그 플랫폼 이동하기\n",
    "> gatsby에서 -> FastPages로 개발 블로그를 옮기면서 느낀점, 팁을 간단히 정리하였다.\n",
    "\n",
    "- toc: true \n",
    "- badges: true\n",
    "- comments: true\n",
    "- categories: [blog, jupyter, insight]\n",
    "- image: images/chart-preview.png"
   ]
  },
  {
   "cell_type": "markdown",
   "metadata": {},
   "source": [
    "\n",
    "## 들어가면서 ..\n",
    "\n",
    "\n",
    "\n",
    "개츠비를 활용한 개발 블로그 운영에 어려움이 있었다. 글쓰기만 해도 힘든데, 블로그를 배포하고 관리하기가 쉽지 않았다.<br>\n",
    "개발자 글쓰기 모임인 글또에서 임슬기님이 fastpages 라는 오픈소스 블로그 프레임웍을 공유해주셨다. <br>\n",
    "간단하게 이용하면서 주피터 노트북을 이용해서 다양한 기능을 추가할 수 있어서 한 번 무작정 시도해보기로 했다.<br>\n",
    "(사실 주피터 노트북을 전혀 쓸 줄 몰라서 이번에 새로 익힌 것은 함정 ...)\n",
    "\n"
   ]
  },
  {
   "cell_type": "markdown",
   "metadata": {},
   "source": [
    "### Fastpages 블로그 설치\n",
    "\n",
    " [fastpages](https://github.com/fastai/fastpages) 깃헙 페이지에 접근하여, <br>\n",
    " Use this template 클릭하면 블로그 리포지토리를 생성할 수 있다. <br>\n",
    " 이 때 10~30초 경과 후 자동으로 풀리퀘스트가 생성되는데, 풀리퀘스트에 적혀 있는 내용대로 진행해주면 된다.(SSH key 관련 세팅 등)\n",
    " \n",
    " #### 설치 가이드(텍스트, 영상)\n",
    " [설치가이드](https://github.com/fastai/fastpages#setup-instructions)\n",
    "  > youtube: https://youtu.be/L0boq3zqazI"
   ]
  },
  {
   "cell_type": "markdown",
   "metadata": {},
   "source": [
    "### 기존 블로그 글 옮기기\n",
    "\n",
    "마크다운 파일로 되어 있는 기존의 글들을 옮겼다. 마크다운 형식이어서 내용 자체는 손댈 일이 없었지만, 이미지 파일 경로 혹은 글에 대한 메타데이터를 변경해줘야 해서 약간의 노가다가 필요했다.\n",
    "\n",
    "- 이미지 경로\n",
    "- front matters 관련 내용 변경(title, descripion 등)\n",
    "\n"
   ]
  },
  {
   "cell_type": "markdown",
   "metadata": {},
   "source": [
    "### 입맛에 맞게 커스터마이징하기\n",
    "- 블로그 표지에 있는 fastpages 관련 설명을 제거하고, 포스팅들만 보이도록 설정했다.\n",
    "- tags -> categories로 네이밍을 변경했다.\n"
   ]
  },
  {
   "cell_type": "markdown",
   "metadata": {},
   "source": [
    "---\n",
    "## 옮기기 끝 ... fastpages 장단점에 대한 생각"
   ]
  },
  {
   "cell_type": "markdown",
   "metadata": {},
   "source": [
    "### 좋은점\n",
    "- 갯츠비보다 프로젝트 구조가 간단하여 블로그 커스터마이징이 쉽다.\n",
    "- 갯츠비에 없는 기능 : 댓글, 영상 임베드 등등... [링크참조](https://github.com/fastai/fastpages#welcome-to-fastpages)"
   ]
  },
  {
   "cell_type": "markdown",
   "metadata": {},
   "source": [
    "### 아쉬운 점 + 고찰 : 주피터 노트북???\n",
    "\n",
    "\n",
    "fastpages의 포커스는 주피터 노트북을 이용한 블로깅에 있다고 생각한다. 설명에서도 맨 처음 강조하는게 주피터 노트북이며, 깃헙 페이지에 주피터 노트북을 이용한 블로깅 설명의 내용이 가장 많았기 때문이다.\n",
    ">\"An easy to use blogging platform, with support for Jupyter notebooks, Word docs, and Markdown.\" <br>\n",
    "주피터 노트북, 워드, 마크다운을 지원하는, 손쉽게 쓸 수 있는 블로그 플랫폼 \n",
    "\n",
    "\n",
    "따라서 fastpages 를 본격적으로 다루려면 먼저 주피터 노트북을 알아야 한다.\n",
    "근데 이 주피터 노트북이 상당히 독특했다. 터미널에서 실행해야 하고, 브라우저 상에서 노트를 작성해야 한다.\n",
    "주피터 노트북의 생소한 사용 방법들을 익혀가면서 머릿속 한켠에서는 \"이렇게까지 해야해?\"라는 의문이 들었지만,\n",
    "개발자는 새로운 배움에 대한 두려움을 이겨내야한다고 생각했고 일단은, 어떻게든 블로그 이주까지 성공했다.\n",
    "\n",
    "\n",
    "[주피터 노트북](https://jupyter.org/about)을 만든 사람들의 철학도 인상깊었다. 이렇게 주피터 노트북을 만든 이유는, 모든 언어로 사용 가능한 데이터 사이언스와 컴퓨팅을 위한 인터랙티브 환경(소위 에디터)을 만들고자 함이었다고 한다. (to support interactive data science and scientific computing across all programming languages ) 사람들이 데이터 사이언스, 컴퓨터 사이언스를 연구하고 표현하는 방법을 돕는 프로젝트가 아닐까 생각이 들었다. 아직 데이터하는 사람은 아니라서 그저 손쉽게 쓸 수 있는 블로그 플랫폼을 고맙게 쓸 뿐이지만, 나중에 데이터를 다루게 된다면 요긴하게 써먹을 수 있는 지식이 되리라 생각이 든다."
   ]
  }
 ],
 "metadata": {
  "kernelspec": {
   "display_name": "Python 3",
   "language": "python",
   "name": "python3"
  },
  "language_info": {
   "codemirror_mode": {
    "name": "ipython",
    "version": 3
   },
   "file_extension": ".py",
   "mimetype": "text/x-python",
   "name": "python",
   "nbconvert_exporter": "python",
   "pygments_lexer": "ipython3",
   "version": "3.8.2"
  },
  "varInspector": {
   "cols": {
    "lenName": 16,
    "lenType": 16,
    "lenVar": 40
   },
   "kernels_config": {
    "python": {
     "delete_cmd_postfix": "",
     "delete_cmd_prefix": "del ",
     "library": "var_list.py",
     "varRefreshCmd": "print(var_dic_list())"
    },
    "r": {
     "delete_cmd_postfix": ") ",
     "delete_cmd_prefix": "rm(",
     "library": "var_list.r",
     "varRefreshCmd": "cat(var_dic_list()) "
    }
   },
   "types_to_exclude": [
    "module",
    "function",
    "builtin_function_or_method",
    "instance",
    "_Feature"
   ],
   "window_display": false
  }
 },
 "nbformat": 4,
 "nbformat_minor": 4
}
